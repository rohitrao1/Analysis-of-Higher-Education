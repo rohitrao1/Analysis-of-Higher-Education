{
 "cells": [
  {
   "cell_type": "markdown",
   "metadata": {},
   "source": [
    "# Education Cost-Benefit\n",
    "---\n"
   ]
  },
  {
   "cell_type": "markdown",
   "metadata": {},
   "source": [
    "### Set Up"
   ]
  },
  {
   "cell_type": "code",
   "execution_count": 1,
   "metadata": {},
   "outputs": [],
   "source": [
    "# Dependencies\n",
    "import requests\n",
    "import pandas as pd\n",
    "import json"
   ]
  },
  {
   "cell_type": "code",
   "execution_count": 2,
   "metadata": {},
   "outputs": [],
   "source": [
    "# Data file paths\n",
    "bach_source = \"Resources/payscaleBachelors.csv\"\n",
    "alum_source = \"Resources/payscaleAlumni.csv\"\n",
    "assc_source = \"Resources/payscaleAssoc.csv\""
   ]
  },
  {
   "cell_type": "code",
   "execution_count": 61,
   "metadata": {},
   "outputs": [],
   "source": [
    "# Open source files\n",
    "raw_bach = pd.read_csv(bach_source)\n",
    "raw_alum = pd.read_csv(alum_source)\n",
    "raw_assc = pd.read_csv(assc_source)\n",
    "\n",
    "#raw_assc.columns"
   ]
  },
  {
   "cell_type": "code",
   "execution_count": 62,
   "metadata": {},
   "outputs": [
    {
     "data": {
      "text/plain": [
       "School Name                 0\n",
       "School Type                 0\n",
       "Early Career Pay            0\n",
       "Mid-Career Pay              0\n",
       "% STEM Degrees              1\n",
       "Early Career Pay BS Plus    2\n",
       "Mid-Career Pay BS Plus      2\n",
       "EC Pay Growth               2\n",
       "EC Pay Pct                  2\n",
       "MC Pay Growth               2\n",
       "MC Pay Pct                  2\n",
       "dtype: int64"
      ]
     },
     "execution_count": 62,
     "metadata": {},
     "output_type": "execute_result"
    }
   ],
   "source": [
    "# Extract relevant info\n",
    "base_bach = raw_bach[['School Name', 'School Type', 'Early Career Pay', 'Mid-Career Pay', '% STEM Degrees']]\n",
    "base_alum = raw_alum[['School Name', 'Early Career Pay', 'Mid-Career Pay']]\n",
    "base_assc = raw_assc[['School Name', 'School Sector', 'Early Career Pay', 'Mid-Career Pay', '% STEM Degrees']]\n",
    "\n",
    "\n",
    "# Merge Alum and Bach data\n",
    "comb_alum = pd.merge(base_bach, base_alum, on=\"School Name\", how=\"left\", suffixes=(\"\", \" BS Plus\"))\n",
    "\n",
    "# Fix merged school type null values\n",
    "#comb_alum[\"School Type BS Only\"] = comb_alum[\"School Type BS Only\"].fillna(comb_alum[\"School Type BS Plus\"])\n",
    "# Fix merged % STEM null values\n",
    "#comb_alum[\"% STEM Degrees BS Only\"] = comb_alum[\"% STEM Degrees BS Only\"].fillna(comb_alum[\"% STEM Degrees BS Plus\"])\n",
    "\n",
    "# Find difference between Alum and Bach data\n",
    "comb_alum[\"EC Pay Growth\"] = comb_alum[\"Early Career Pay BS Plus\"] - comb_alum[\"Early Career Pay\"]\n",
    "comb_alum[\"EC Pay Pct\"] = comb_alum[\"EC Pay Growth\"] / comb_alum[\"Early Career Pay\"]\n",
    "comb_alum[\"MC Pay Growth\"] = comb_alum[\"Mid-Career Pay BS Plus\"] - comb_alum[\"Mid-Career Pay\"]\n",
    "comb_alum[\"MC Pay Pct\"] = comb_alum[\"MC Pay Growth\"] / comb_alum[\"Mid-Career Pay\"]\n",
    "\n",
    "#display(comb_alum)\n",
    "comb_alum.isna().sum()"
   ]
  },
  {
   "cell_type": "code",
   "execution_count": 57,
   "metadata": {},
   "outputs": [],
   "source": [
    "# Strip out School Type Data\n",
    "#comb_alum[\"Private\"] = comb_alum.loc[:, \"School Type\"].apply(lambda s:\"Private\" in s)\n",
    "#comb_alum[\"State\"] = comb_alum.loc[:, \"School Type\"].apply(lambda s:\"State\" in s)\n",
    "#comb_alum[\"Ivy League\"] = comb_alum.loc[:, \"School Type\"].apply(lambda s:\"Ivy League\" in s)\n",
    "#comb_alum[\"Sports\"] = comb_alum.loc[:, \"School Type\"].apply(lambda s:\"Sports\" in s)\n",
    "#comb_alum[\"Religious\"] = comb_alum.loc[:, \"School Type\"].apply(lambda s:\"Religious\" in s)\n",
    "#comb_alum[\"Research\"] = comb_alum.loc[:, \"School Type\"].apply(lambda s:\"Research\" in s)\n",
    "#comb_alum[\"Engineering\"] = comb_alum.loc[:, \"School Type\"].apply(lambda s:\"Engineering\" in s)\n"
   ]
  },
  {
   "cell_type": "code",
   "execution_count": 65,
   "metadata": {},
   "outputs": [],
   "source": [
    "# Create slices of data based on School Types\n",
    "privt_data = comb_alum[comb_alum[\"School Type\"].str.contains(\"Private\") == True]\n",
    "state_data = comb_alum[comb_alum[\"School Type\"].str.contains(\"State\") == True]\n",
    "ivylg_data = comb_alum[comb_alum[\"School Type\"].str.contains(\"Ivy League\") == True]\n",
    "sport_data = comb_alum[comb_alum[\"School Type\"].str.contains(\"Sport\") == True]\n",
    "relig_data = comb_alum[comb_alum[\"School Type\"].str.contains(\"Religious\") == True]\n",
    "rsrch_data = comb_alum[comb_alum[\"School Type\"].str.contains(\"Research\") == True]\n",
    "engnr_data = comb_alum[comb_alum[\"School Type\"].str.contains(\"Engineering\") == True]"
   ]
  },
  {
   "cell_type": "code",
   "execution_count": 71,
   "metadata": {
    "scrolled": true
   },
   "outputs": [
    {
     "data": {
      "text/html": [
       "<div>\n",
       "<style scoped>\n",
       "    .dataframe tbody tr th:only-of-type {\n",
       "        vertical-align: middle;\n",
       "    }\n",
       "\n",
       "    .dataframe tbody tr th {\n",
       "        vertical-align: top;\n",
       "    }\n",
       "\n",
       "    .dataframe thead th {\n",
       "        text-align: right;\n",
       "    }\n",
       "</style>\n",
       "<table border=\"1\" class=\"dataframe\">\n",
       "  <thead>\n",
       "    <tr style=\"text-align: right;\">\n",
       "      <th></th>\n",
       "      <th>School Name</th>\n",
       "      <th>School Type</th>\n",
       "      <th>Early Career Pay</th>\n",
       "      <th>Mid-Career Pay</th>\n",
       "      <th>% STEM Degrees</th>\n",
       "      <th>Early Career Pay BS Plus</th>\n",
       "      <th>Mid-Career Pay BS Plus</th>\n",
       "      <th>EC Pay Growth</th>\n",
       "      <th>EC Pay Pct</th>\n",
       "      <th>MC Pay Growth</th>\n",
       "      <th>MC Pay Pct</th>\n",
       "    </tr>\n",
       "  </thead>\n",
       "  <tbody>\n",
       "    <tr>\n",
       "      <th>1</th>\n",
       "      <td>Princeton University</td>\n",
       "      <td>Ivy League, Private School, Research Universit...</td>\n",
       "      <td>69800</td>\n",
       "      <td>147800</td>\n",
       "      <td>0.47</td>\n",
       "      <td>71000.0</td>\n",
       "      <td>151900.0</td>\n",
       "      <td>1200.0</td>\n",
       "      <td>0.017192</td>\n",
       "      <td>4100.0</td>\n",
       "      <td>0.027740</td>\n",
       "    </tr>\n",
       "    <tr>\n",
       "      <th>8</th>\n",
       "      <td>Harvard University</td>\n",
       "      <td>Ivy League, Private School, Research Universit...</td>\n",
       "      <td>69200</td>\n",
       "      <td>140700</td>\n",
       "      <td>0.19</td>\n",
       "      <td>71200.0</td>\n",
       "      <td>147500.0</td>\n",
       "      <td>2000.0</td>\n",
       "      <td>0.028902</td>\n",
       "      <td>6800.0</td>\n",
       "      <td>0.048330</td>\n",
       "    </tr>\n",
       "    <tr>\n",
       "      <th>10</th>\n",
       "      <td>Dartmouth College</td>\n",
       "      <td>Ivy League, Private School, Research Universit...</td>\n",
       "      <td>66300</td>\n",
       "      <td>140300</td>\n",
       "      <td>0.32</td>\n",
       "      <td>68300.0</td>\n",
       "      <td>150800.0</td>\n",
       "      <td>2000.0</td>\n",
       "      <td>0.030166</td>\n",
       "      <td>10500.0</td>\n",
       "      <td>0.074840</td>\n",
       "    </tr>\n",
       "    <tr>\n",
       "      <th>19</th>\n",
       "      <td>University of Pennsylvania</td>\n",
       "      <td>Ivy League, Private School, Research Universit...</td>\n",
       "      <td>68100</td>\n",
       "      <td>134800</td>\n",
       "      <td>0.22</td>\n",
       "      <td>70500.0</td>\n",
       "      <td>143200.0</td>\n",
       "      <td>2400.0</td>\n",
       "      <td>0.035242</td>\n",
       "      <td>8400.0</td>\n",
       "      <td>0.062315</td>\n",
       "    </tr>\n",
       "    <tr>\n",
       "      <th>24</th>\n",
       "      <td>Yale University</td>\n",
       "      <td>Ivy League, Private School, Research Universit...</td>\n",
       "      <td>66800</td>\n",
       "      <td>132100</td>\n",
       "      <td>0.23</td>\n",
       "      <td>70300.0</td>\n",
       "      <td>143300.0</td>\n",
       "      <td>3500.0</td>\n",
       "      <td>0.052395</td>\n",
       "      <td>11200.0</td>\n",
       "      <td>0.084784</td>\n",
       "    </tr>\n",
       "    <tr>\n",
       "      <th>25</th>\n",
       "      <td>Brown University</td>\n",
       "      <td>Ivy League, Private School, Research Universit...</td>\n",
       "      <td>63000</td>\n",
       "      <td>132000</td>\n",
       "      <td>0.39</td>\n",
       "      <td>64600.0</td>\n",
       "      <td>135400.0</td>\n",
       "      <td>1600.0</td>\n",
       "      <td>0.025397</td>\n",
       "      <td>3400.0</td>\n",
       "      <td>0.025758</td>\n",
       "    </tr>\n",
       "    <tr>\n",
       "      <th>43</th>\n",
       "      <td>Columbia University in the City of New York</td>\n",
       "      <td>Ivy League, Private School, Research Universit...</td>\n",
       "      <td>66000</td>\n",
       "      <td>124700</td>\n",
       "      <td>0.30</td>\n",
       "      <td>67500.0</td>\n",
       "      <td>130100.0</td>\n",
       "      <td>1500.0</td>\n",
       "      <td>0.022727</td>\n",
       "      <td>5400.0</td>\n",
       "      <td>0.043304</td>\n",
       "    </tr>\n",
       "    <tr>\n",
       "      <th>48</th>\n",
       "      <td>Cornell University</td>\n",
       "      <td>Ivy League, Private School, Research Universit...</td>\n",
       "      <td>65600</td>\n",
       "      <td>123900</td>\n",
       "      <td>0.43</td>\n",
       "      <td>67700.0</td>\n",
       "      <td>129600.0</td>\n",
       "      <td>2100.0</td>\n",
       "      <td>0.032012</td>\n",
       "      <td>5700.0</td>\n",
       "      <td>0.046005</td>\n",
       "    </tr>\n",
       "  </tbody>\n",
       "</table>\n",
       "</div>"
      ],
      "text/plain": [
       "                                    School Name  \\\n",
       "1                          Princeton University   \n",
       "8                            Harvard University   \n",
       "10                            Dartmouth College   \n",
       "19                   University of Pennsylvania   \n",
       "24                              Yale University   \n",
       "25                             Brown University   \n",
       "43  Columbia University in the City of New York   \n",
       "48                           Cornell University   \n",
       "\n",
       "                                          School Type  Early Career Pay  \\\n",
       "1   Ivy League, Private School, Research Universit...             69800   \n",
       "8   Ivy League, Private School, Research Universit...             69200   \n",
       "10  Ivy League, Private School, Research Universit...             66300   \n",
       "19  Ivy League, Private School, Research Universit...             68100   \n",
       "24  Ivy League, Private School, Research Universit...             66800   \n",
       "25  Ivy League, Private School, Research Universit...             63000   \n",
       "43  Ivy League, Private School, Research Universit...             66000   \n",
       "48  Ivy League, Private School, Research Universit...             65600   \n",
       "\n",
       "    Mid-Career Pay  % STEM Degrees  Early Career Pay BS Plus  \\\n",
       "1           147800            0.47                   71000.0   \n",
       "8           140700            0.19                   71200.0   \n",
       "10          140300            0.32                   68300.0   \n",
       "19          134800            0.22                   70500.0   \n",
       "24          132100            0.23                   70300.0   \n",
       "25          132000            0.39                   64600.0   \n",
       "43          124700            0.30                   67500.0   \n",
       "48          123900            0.43                   67700.0   \n",
       "\n",
       "    Mid-Career Pay BS Plus  EC Pay Growth  EC Pay Pct  MC Pay Growth  \\\n",
       "1                 151900.0         1200.0    0.017192         4100.0   \n",
       "8                 147500.0         2000.0    0.028902         6800.0   \n",
       "10                150800.0         2000.0    0.030166        10500.0   \n",
       "19                143200.0         2400.0    0.035242         8400.0   \n",
       "24                143300.0         3500.0    0.052395        11200.0   \n",
       "25                135400.0         1600.0    0.025397         3400.0   \n",
       "43                130100.0         1500.0    0.022727         5400.0   \n",
       "48                129600.0         2100.0    0.032012         5700.0   \n",
       "\n",
       "    MC Pay Pct  \n",
       "1     0.027740  \n",
       "8     0.048330  \n",
       "10    0.074840  \n",
       "19    0.062315  \n",
       "24    0.084784  \n",
       "25    0.025758  \n",
       "43    0.043304  \n",
       "48    0.046005  "
      ]
     },
     "metadata": {},
     "output_type": "display_data"
    }
   ],
   "source": [
    "display(ivylg_data)"
   ]
  },
  {
   "cell_type": "markdown",
   "metadata": {},
   "source": [
    "---\n",
    "### Level of Education"
   ]
  },
  {
   "cell_type": "code",
   "execution_count": null,
   "metadata": {
    "scrolled": true
   },
   "outputs": [],
   "source": [
    "# How do best Associates compare to best Bachelors\n",
    "\n",
    "# How do best Associates compare to bachelors means\n",
    "\n",
    "# How do best Associates compare to worst Bachelors"
   ]
  },
  {
   "cell_type": "markdown",
   "metadata": {},
   "source": [
    "---\n",
    "### School Type Factors"
   ]
  },
  {
   "cell_type": "code",
   "execution_count": null,
   "metadata": {},
   "outputs": [],
   "source": [
    "# Identify schools that are Ivy League vs not\n",
    "\n",
    "# Find the mean early, mid-career salaries and potential\n",
    "\n"
   ]
  }
 ],
 "metadata": {
  "kernelspec": {
   "display_name": "Python 3",
   "language": "python",
   "name": "python3"
  },
  "language_info": {
   "codemirror_mode": {
    "name": "ipython",
    "version": 3
   },
   "file_extension": ".py",
   "mimetype": "text/x-python",
   "name": "python",
   "nbconvert_exporter": "python",
   "pygments_lexer": "ipython3",
   "version": "3.6.5"
  }
 },
 "nbformat": 4,
 "nbformat_minor": 2
}
