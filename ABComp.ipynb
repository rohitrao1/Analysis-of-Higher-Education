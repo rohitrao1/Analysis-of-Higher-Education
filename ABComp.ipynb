{
 "cells": [
  {
   "cell_type": "markdown",
   "metadata": {},
   "source": [
    "# Education Cost-Benefit\n",
    "---\n"
   ]
  },
  {
   "cell_type": "markdown",
   "metadata": {},
   "source": [
    "### Set Up"
   ]
  },
  {
   "cell_type": "code",
   "execution_count": 1,
   "metadata": {},
   "outputs": [],
   "source": [
    "# Dependencies\n",
    "import requests\n",
    "import pandas as pd\n",
    "import json"
   ]
  },
  {
   "cell_type": "code",
   "execution_count": 2,
   "metadata": {},
   "outputs": [],
   "source": [
    "# Data file paths\n",
    "bach_source = \"Resources/payscaleBachelors.csv\"\n",
    "alum_source = \"Resources/payscaleAlumni.csv\"\n",
    "assc_source = \"Resources/payscaleAssoc.csv\""
   ]
  },
  {
   "cell_type": "code",
   "execution_count": 28,
   "metadata": {},
   "outputs": [
    {
     "data": {
      "text/plain": [
       "Index(['Rank', 'School Name', 'School Sector', 'Early Career Pay',\n",
       "       'Mid-Career Pay', '% High Meaning', '% STEM Degrees'],\n",
       "      dtype='object')"
      ]
     },
     "execution_count": 28,
     "metadata": {},
     "output_type": "execute_result"
    }
   ],
   "source": [
    "# Open source files\n",
    "raw_bach = pd.read_csv(bach_source)\n",
    "raw_alum = pd.read_csv(alum_source)\n",
    "raw_assc = pd.read_csv(assc_source)\n",
    "\n",
    "raw_assc.columns"
   ]
  },
  {
   "cell_type": "code",
   "execution_count": 33,
   "metadata": {},
   "outputs": [
    {
     "data": {
      "text/plain": [
       "School Name                  0\n",
       "School Type BS Only         24\n",
       "Early Career Pay BS Only    24\n",
       "Mid-Career Pay BS Only      24\n",
       "% STEM Degrees BS Only      25\n",
       "School Type BS Plus          2\n",
       "Early Career Pay BS Plus     2\n",
       "Mid-Career Pay BS Plus       2\n",
       "% STEM Degrees BS Plus       3\n",
       "dtype: int64"
      ]
     },
     "execution_count": 33,
     "metadata": {},
     "output_type": "execute_result"
    }
   ],
   "source": [
    "# Extract relevant info\n",
    "base_bach = raw_bach[['School Name', 'School Type', 'Early Career Pay', 'Mid-Career Pay', '% STEM Degrees']]\n",
    "base_alum = raw_alum[['School Name', 'School Type', 'Early Career Pay', 'Mid-Career Pay', '% STEM Degrees']]\n",
    "base_assc = raw_assc[['School Name', 'School Sector', 'Early Career Pay', 'Mid-Career Pay', '% STEM Degrees']]\n",
    "\n",
    "\n",
    "# Merge Alum and Bach data\n",
    "comb_alum = pd.merge(base_bach, base_alum, on=\"School Name\", how=\"outer\", suffixes=(\" BS Only\", \" BS Plus\"))\n",
    "comb_alum[\"School Type BS Only\"] = comb_alum[\"School Type BS Only\"].fillna(comb_alum[\"School Type BS Plus\"])\n",
    "\n",
    "# Find difference between Alum and Bach data\n",
    "\n",
    "# Calculate difference between early and mid careers as potential\n",
    "\n",
    "comb_alum.isna().sum()"
   ]
  },
  {
   "cell_type": "markdown",
   "metadata": {},
   "source": [
    "---\n",
    "### Level of Education"
   ]
  },
  {
   "cell_type": "code",
   "execution_count": null,
   "metadata": {
    "scrolled": true
   },
   "outputs": [],
   "source": [
    "# How do best Associates compare to best Bachelors\n",
    "\n",
    "# How do best Associates compare to bachelors means\n",
    "\n",
    "# How do best Associates compare to worst Bachelors"
   ]
  },
  {
   "cell_type": "markdown",
   "metadata": {},
   "source": [
    "---\n",
    "### School Type Factors"
   ]
  },
  {
   "cell_type": "code",
   "execution_count": null,
   "metadata": {},
   "outputs": [],
   "source": [
    "# Identify schools that are Ivy League vs not\n",
    "\n",
    "# Find the mean early, mid-career salaries and potential\n",
    "\n"
   ]
  }
 ],
 "metadata": {
  "kernelspec": {
   "display_name": "Python 3",
   "language": "python",
   "name": "python3"
  },
  "language_info": {
   "codemirror_mode": {
    "name": "ipython",
    "version": 3
   },
   "file_extension": ".py",
   "mimetype": "text/x-python",
   "name": "python",
   "nbconvert_exporter": "python",
   "pygments_lexer": "ipython3",
   "version": "3.6.5"
  }
 },
 "nbformat": 4,
 "nbformat_minor": 2
}
